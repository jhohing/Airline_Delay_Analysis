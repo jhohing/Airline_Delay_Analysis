{
 "cells": [
  {
   "cell_type": "code",
   "execution_count": 1,
   "id": "0662e0eb",
   "metadata": {},
   "outputs": [],
   "source": [
    "import pandas as pd\n",
    "import numpy as np\n",
    "from sqlalchemy import create_engine\n",
    "\n",
    "from config import db_password"
   ]
  },
  {
   "cell_type": "code",
   "execution_count": 2,
   "id": "e7426297",
   "metadata": {},
   "outputs": [],
   "source": [
    "# SQL Parameters\n",
    "database_type = 'postgresql'\n",
    "host = 'localhost'\n",
    "port = '5432'\n",
    "username = 'postgres'"
   ]
  },
  {
   "cell_type": "code",
   "execution_count": null,
   "id": "728c020c",
   "metadata": {},
   "outputs": [],
   "source": [
    "# Database and table parameters\n",
    "database_name = \"airline_delay_analysis\""
   ]
  },
  {
   "cell_type": "code",
   "execution_count": null,
   "id": "02a136e0",
   "metadata": {},
   "outputs": [],
   "source": [
    "# Create and execute connection to SQL table using input parameters above \n",
    "engine = create_engine(f'{database_type}://{username}:{db_password}@{host}:{port}/{database_name}')\n",
    "conn = engine.connect()"
   ]
  }
 ],
 "metadata": {
  "kernelspec": {
   "display_name": "PythonData",
   "language": "python",
   "name": "pythondata"
  },
  "language_info": {
   "codemirror_mode": {
    "name": "ipython",
    "version": 3
   },
   "file_extension": ".py",
   "mimetype": "text/x-python",
   "name": "python",
   "nbconvert_exporter": "python",
   "pygments_lexer": "ipython3",
   "version": "3.9.13"
  }
 },
 "nbformat": 4,
 "nbformat_minor": 5
}
